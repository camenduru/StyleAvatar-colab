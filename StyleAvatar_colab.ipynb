{
  "cells": [
    {
      "cell_type": "markdown",
      "metadata": {
        "id": "view-in-github"
      },
      "source": [
        "[![Open In Colab](https://colab.research.google.com/assets/colab-badge.svg)](https://colab.research.google.com/github/camenduru/StyleAvatar-colab/blob/main/StyleAvatar_colab.ipynb)"
      ]
    },
    {
      "cell_type": "code",
      "execution_count": null,
      "metadata": {
        "id": "VjYy0F2gZIPR"
      },
      "outputs": [],
      "source": [
        "%cd /content\n",
        "!git clone -b dev https://github.com/camenduru/StyleAvatar\n",
        "%cd /content/StyleAvatar\n",
        "!pip install https://github.com/camenduru/wheels/releases/download/colab/upfirdn2d-0.0.0-cp310-cp310-linux_x86_64.whl\n",
        "\n",
        "# %cd /content/StyleAvatar/styleunet/networks/stylegan2_ops\n",
        "# !python setup.py bdist_wheel\n",
        "\n",
        "!apt -y install -qq aria2\n",
        "# !aria2c --console-log-level=error -c -x 16 -s 16 -k 1M https://huggingface.co/camenduru/StyleAvatar/resolve/main/lizhen_full_exe.pt -d /content/StyleAvatar/styleavatar/pretrained -o lizhen_full_exe.pt\n",
        "# !aria2c --console-log-level=error -c -x 16 -s 16 -k 1M https://huggingface.co/camenduru/StyleAvatar/resolve/main/lizhen_full_python.pt -d /content/StyleAvatar/styleavatar/pretrained -o lizhen_full_python.pt\n",
        "\n",
        "!aria2c --console-log-level=error -c -x 16 -s 16 -k 1M https://huggingface.co/camenduru/StyleAvatar/resolve/main/inpainting_g_ema.pt -d /content/StyleAvatar/styleunet/pretrained -o inpainting_g_ema.pt\n",
        "!aria2c --console-log-level=error -c -x 16 -s 16 -k 1M https://huggingface.co/camenduru/StyleAvatar/resolve/main/retouching_g_ema.pt -d /content/StyleAvatar/styleunet/pretrained -o retouching_g_ema.pt\n",
        "!aria2c --console-log-level=error -c -x 16 -s 16 -k 1M https://huggingface.co/camenduru/StyleAvatar/resolve/main/superresolution_full.pt -d /content/StyleAvatar/styleunet/pretrained -o superresolution_full.pt\n",
        "!aria2c --console-log-level=error -c -x 16 -s 16 -k 1M https://huggingface.co/camenduru/StyleAvatar/resolve/main/superresolution_g_ema.pt -d /content/StyleAvatar/styleunet/pretrained -o superresolution_g_ema.pt\n",
        "!aria2c --console-log-level=error -c -x 16 -s 16 -k 1M https://huggingface.co/camenduru/StyleAvatar/resolve/main/tdmm_lizhen.pt -d /content/StyleAvatar/styleunet/pretrained -o tdmm_lizhen.pt\n",
        "!aria2c --console-log-level=error -c -x 16 -s 16 -k 1M https://huggingface.co/camenduru/StyleAvatar/resolve/main/tdmm_lizhen_full.pt -d /content/StyleAvatar/styleunet/pretrained -o tdmm_lizhen_full.pt"
      ]
    },
    {
      "cell_type": "code",
      "execution_count": null,
      "metadata": {},
      "outputs": [],
      "source": [
        "# %cd /content/StyleAvatar/styleavatar\n",
        "# !python test.py --render_dir path-to-dataset/render --uv_dir path-to-dataset/uv --ckpt pretrained/lizhen_full_python.pt --save_dir output/test\n",
        "\n",
        "%cd /content/StyleAvatar/styleunet\n",
        "# test, --skin_whiten 0-1 if you want, --use_alignment if your input image is not a 1024x1024 aligned portriat image, --iter 1~3 for iterations of face retouching (only for mode 2)\n",
        "# !python test.py --input_dir input/inpainting --ckpt pretrained/inpainting_g_ema.pt --save_dir output/inpainting --mode 0\n",
        "!python test.py --input_dir input/superresolution --ckpt pretrained/superresolution_g_ema.pt --save_dir output/superresolution --mode 1\n",
        "# !python test.py --input_dir input/retouching --ckpt pretrained/retouching_g_ema.pt --save_dir output/retouching --mode 2 --skin_whiten 0.5 --iter 2 --use_alignment\n",
        "\n",
        "# The portrait in the first frame of the testing video should keep facing the camera with a neutral expression. The rotation of the first frame will lead to wrong results.\n",
        "# !python test.py --input_dir input/tdmm --ckpt pretrained/tdmm_lizhen.pt --save_dir output/tdmm --mode 3"
      ]
    }
  ],
  "metadata": {
    "accelerator": "GPU",
    "colab": {
      "gpuType": "T4",
      "provenance": []
    },
    "kernelspec": {
      "display_name": "Python 3",
      "name": "python3"
    },
    "language_info": {
      "name": "python"
    }
  },
  "nbformat": 4,
  "nbformat_minor": 0
}
